{
 "cells": [
  {
   "cell_type": "code",
   "execution_count": 1,
   "metadata": {},
   "outputs": [
    {
     "name": "stdout",
     "output_type": "stream",
     "text": [
      "/home/denis/code/ML_model_implementation\n"
     ]
    },
    {
     "name": "stderr",
     "output_type": "stream",
     "text": [
      "/home/denis/.local/lib/python3.10/site-packages/IPython/core/magics/osm.py:417: UserWarning: This is now an optional IPython functionality, setting dhist requires you to install the `pickleshare` library.\n",
      "  self.shell.db['dhist'] = compress_dhist(dhist)[-100:]\n"
     ]
    }
   ],
   "source": [
    "%cd .."
   ]
  },
  {
   "cell_type": "markdown",
   "metadata": {},
   "source": [
    "# Лабораторная работа №1 (Проведение исследований с алгоритмом Regression)"
   ]
  },
  {
   "cell_type": "code",
   "execution_count": 2,
   "metadata": {},
   "outputs": [],
   "source": [
    "import pandas as pd\n",
    "import numpy as np\n",
    "from sklearn.tree import DecisionTreeRegressor\n",
    "from sklearn.model_selection import train_test_split\n",
    "from sklearn.pipeline import Pipeline\n",
    "from sklearn.preprocessing import LabelEncoder, OneHotEncoder\n",
    "from sklearn.metrics import mean_absolute_error, mean_absolute_percentage_error, r2_score, max_error\n",
    "import matplotlib.pyplot as plt\n",
    "import seaborn as sns\n",
    "from phik import phik_matrix\n",
    "from sklearn.decomposition import PCA\n",
    "from sklearn.preprocessing import StandardScaler\n",
    "from phik.report import plot_correlation_matrix\n",
    "pd.set_option('display.max_columns', None)"
   ]
  },
  {
   "cell_type": "markdown",
   "metadata": {},
   "source": [
    "## Часть 1: Выбор начальных условий"
   ]
  },
  {
   "cell_type": "markdown",
   "metadata": {},
   "source": [
    "### Набор данных для классификации"
   ]
  },
  {
   "cell_type": "code",
   "execution_count": 3,
   "metadata": {},
   "outputs": [],
   "source": [
    "data = pd.read_csv(\"./data/insurance.csv\")"
   ]
  },
  {
   "cell_type": "code",
   "execution_count": 4,
   "metadata": {},
   "outputs": [
    {
     "data": {
      "text/html": [
       "<div>\n",
       "<style scoped>\n",
       "    .dataframe tbody tr th:only-of-type {\n",
       "        vertical-align: middle;\n",
       "    }\n",
       "\n",
       "    .dataframe tbody tr th {\n",
       "        vertical-align: top;\n",
       "    }\n",
       "\n",
       "    .dataframe thead th {\n",
       "        text-align: right;\n",
       "    }\n",
       "</style>\n",
       "<table border=\"1\" class=\"dataframe\">\n",
       "  <thead>\n",
       "    <tr style=\"text-align: right;\">\n",
       "      <th></th>\n",
       "      <th>age</th>\n",
       "      <th>sex</th>\n",
       "      <th>bmi</th>\n",
       "      <th>children</th>\n",
       "      <th>smoker</th>\n",
       "      <th>region</th>\n",
       "      <th>charges</th>\n",
       "    </tr>\n",
       "  </thead>\n",
       "  <tbody>\n",
       "    <tr>\n",
       "      <th>0</th>\n",
       "      <td>19</td>\n",
       "      <td>female</td>\n",
       "      <td>27.900</td>\n",
       "      <td>0</td>\n",
       "      <td>yes</td>\n",
       "      <td>southwest</td>\n",
       "      <td>16884.92400</td>\n",
       "    </tr>\n",
       "    <tr>\n",
       "      <th>1</th>\n",
       "      <td>18</td>\n",
       "      <td>male</td>\n",
       "      <td>33.770</td>\n",
       "      <td>1</td>\n",
       "      <td>no</td>\n",
       "      <td>southeast</td>\n",
       "      <td>1725.55230</td>\n",
       "    </tr>\n",
       "    <tr>\n",
       "      <th>2</th>\n",
       "      <td>28</td>\n",
       "      <td>male</td>\n",
       "      <td>33.000</td>\n",
       "      <td>3</td>\n",
       "      <td>no</td>\n",
       "      <td>southeast</td>\n",
       "      <td>4449.46200</td>\n",
       "    </tr>\n",
       "    <tr>\n",
       "      <th>3</th>\n",
       "      <td>33</td>\n",
       "      <td>male</td>\n",
       "      <td>22.705</td>\n",
       "      <td>0</td>\n",
       "      <td>no</td>\n",
       "      <td>northwest</td>\n",
       "      <td>21984.47061</td>\n",
       "    </tr>\n",
       "    <tr>\n",
       "      <th>4</th>\n",
       "      <td>32</td>\n",
       "      <td>male</td>\n",
       "      <td>28.880</td>\n",
       "      <td>0</td>\n",
       "      <td>no</td>\n",
       "      <td>northwest</td>\n",
       "      <td>3866.85520</td>\n",
       "    </tr>\n",
       "  </tbody>\n",
       "</table>\n",
       "</div>"
      ],
      "text/plain": [
       "   age     sex     bmi  children smoker     region      charges\n",
       "0   19  female  27.900         0    yes  southwest  16884.92400\n",
       "1   18    male  33.770         1     no  southeast   1725.55230\n",
       "2   28    male  33.000         3     no  southeast   4449.46200\n",
       "3   33    male  22.705         0     no  northwest  21984.47061\n",
       "4   32    male  28.880         0     no  northwest   3866.85520"
      ]
     },
     "execution_count": 4,
     "metadata": {},
     "output_type": "execute_result"
    }
   ],
   "source": [
    "data.head()"
   ]
  },
  {
   "cell_type": "markdown",
   "metadata": {},
   "source": [
    "### Описание фичей:\n",
    "\n",
    "- age: возраст основного бенефициара\n",
    "- sex: страховой агент пол, женщина, мужчина\n",
    "- bmi: индекс массы тела, дающий представление о телосложении, весе, который относительно высок или низок по отношению к росту, \n",
    "объективный индекс массы тела (кг / м2) с использованием отношения роста к весу, в идеале от 18,5 до 24,9\n",
    "- children: Количество детей, охваченных медицинской страховкой / Количество иждивенцев\n",
    "- smoker: Курящий\n",
    "- region: район проживания получателя в США, северо-восток, юго-восток, юго-запад, северо-запад.\n",
    "- charges: Индивидуальные медицинские расходы, оплачиваемые медицинской страховкой"
   ]
  },
  {
   "cell_type": "markdown",
   "metadata": {},
   "source": [
    "#### Разобьем на категориальные и числовые колонки"
   ]
  },
  {
   "cell_type": "code",
   "execution_count": 5,
   "metadata": {},
   "outputs": [],
   "source": [
    "# Категориальные колонки\n",
    "categorical_columns = [\n",
    "    'sex', 'smoker', 'region'\n",
    "]\n",
    "\n",
    "# Колонка-таргет\n",
    "target_columns = 'charges'\n",
    "\n",
    "# Числовые колонки\n",
    "numerical_columns = data.columns[~data.columns.isin(categorical_columns + [target_columns])].tolist()"
   ]
  },
  {
   "cell_type": "markdown",
   "metadata": {},
   "source": [
    "Превратим object в числовые значения и укажем явно, что это категориальный тип данных"
   ]
  },
  {
   "cell_type": "code",
   "execution_count": 6,
   "metadata": {},
   "outputs": [],
   "source": [
    "label_encoder = {\"sex\": LabelEncoder(), \"smoker\": LabelEncoder(), \"region\": OneHotEncoder()}\n",
    "data[\"sex\"] = label_encoder[\"sex\"].fit_transform(data[\"sex\"])\n",
    "data[\"smoker\"] = label_encoder[\"smoker\"].fit_transform(data[\"smoker\"])\n",
    "\n",
    "region_encoded = label_encoder[\"region\"].fit_transform(data[[\"region\"]])\n",
    "region_encoded_df = pd.DataFrame(\n",
    "    region_encoded.toarray(), \n",
    "    columns=label_encoder[\"region\"].get_feature_names_out([\"region\"]),\n",
    "    index=data.index\n",
    ")\n",
    "\n",
    "data = pd.concat([data, region_encoded_df], axis=1)\n",
    "data = data.drop(columns=[\"region\"])\n",
    "categorical_columns = region_encoded_df.columns.tolist() + ['sex', 'smoker']"
   ]
  },
  {
   "cell_type": "code",
   "execution_count": 7,
   "metadata": {},
   "outputs": [],
   "source": [
    "data[categorical_columns] = data[categorical_columns].astype('category')"
   ]
  },
  {
   "cell_type": "markdown",
   "metadata": {},
   "source": [
    "Разобьем выборку на трэин и валидацию"
   ]
  },
  {
   "cell_type": "code",
   "execution_count": 8,
   "metadata": {},
   "outputs": [],
   "source": [
    "train, valid = train_test_split(data, train_size=0.8, random_state=42, shuffle=True)"
   ]
  },
  {
   "cell_type": "code",
   "execution_count": 9,
   "metadata": {},
   "outputs": [],
   "source": [
    "X_train = train.drop(columns=target_columns, inplace=False)\n",
    "y_train = train[target_columns]\n",
    "\n",
    "X_valid = valid.drop(columns=target_columns, inplace=False)\n",
    "y_valid = valid[target_columns]"
   ]
  },
  {
   "cell_type": "markdown",
   "metadata": {},
   "source": [
    "- В качестве датасета для регрессии я взял страхование\n",
    "- Таргет - charges\n",
    "- В качестве метрики качества буду использовать MAE, MAPE, R квадрат и max error, тк они просты для понимания"
   ]
  },
  {
   "cell_type": "markdown",
   "metadata": {},
   "source": [
    "## Часть 2: Создание бейзлайна и оценка качества"
   ]
  },
  {
   "cell_type": "markdown",
   "metadata": {},
   "source": [
    "### A: Обучение модели"
   ]
  },
  {
   "cell_type": "markdown",
   "metadata": {},
   "source": [
    "Для начала сделаем препроцессор и закинем его вместе с pipeline в модель"
   ]
  },
  {
   "cell_type": "code",
   "execution_count": 10,
   "metadata": {},
   "outputs": [],
   "source": [
    "model = DecisionTreeRegressor()"
   ]
  },
  {
   "cell_type": "markdown",
   "metadata": {},
   "source": [
    "Обучаем модель"
   ]
  },
  {
   "cell_type": "code",
   "execution_count": 11,
   "metadata": {},
   "outputs": [
    {
     "data": {
      "text/plain": [
       "DecisionTreeRegressor()"
      ]
     },
     "execution_count": 11,
     "metadata": {},
     "output_type": "execute_result"
    }
   ],
   "source": [
    "model.fit(X_train, y_train)"
   ]
  },
  {
   "cell_type": "markdown",
   "metadata": {},
   "source": [
    "Делаем предсказания по тренировочной выборке и валидационной"
   ]
  },
  {
   "cell_type": "code",
   "execution_count": 12,
   "metadata": {},
   "outputs": [],
   "source": [
    "train_predict = model.predict(X_train)\n",
    "valid_predict = model.predict(X_valid)"
   ]
  },
  {
   "cell_type": "markdown",
   "metadata": {},
   "source": [
    "### B: Оценка качества модели"
   ]
  },
  {
   "cell_type": "code",
   "execution_count": 13,
   "metadata": {},
   "outputs": [],
   "source": [
    "# Расчет метрик для тренировочных предсказаний\n",
    "train_mae = mean_absolute_error(y_train, train_predict)\n",
    "train_mape = mean_absolute_percentage_error(y_train, train_predict) * 100  # Преобразуем в проценты\n",
    "train_r2 = r2_score(y_train, train_predict)\n",
    "train_max_error = max_error(y_train, train_predict)\n",
    "\n",
    "# Расчет метрик для валидационных предсказаний\n",
    "valid_mae = mean_absolute_error(y_valid, valid_predict)\n",
    "valid_mape = mean_absolute_percentage_error(y_valid, valid_predict) * 100  # Преобразуем в проценты\n",
    "valid_r2 = r2_score(y_valid, valid_predict)\n",
    "valid_max_error = max_error(y_valid, valid_predict)\n",
    "\n",
    "# Сводка метрик в таблицу для удобного отображения\n",
    "metrics_df = pd.DataFrame({\n",
    "    'Метрика': ['MAE', 'MAPE (%)', 'R²', 'Max Error'],\n",
    "    'Тренировочная выборка': [train_mae, train_mape, train_r2, train_max_error],\n",
    "    'Валидационная выборка': [valid_mae, valid_mape, valid_r2, valid_max_error]\n",
    "})"
   ]
  },
  {
   "cell_type": "code",
   "execution_count": 14,
   "metadata": {},
   "outputs": [
    {
     "data": {
      "text/html": [
       "<div>\n",
       "<style scoped>\n",
       "    .dataframe tbody tr th:only-of-type {\n",
       "        vertical-align: middle;\n",
       "    }\n",
       "\n",
       "    .dataframe tbody tr th {\n",
       "        vertical-align: top;\n",
       "    }\n",
       "\n",
       "    .dataframe thead th {\n",
       "        text-align: right;\n",
       "    }\n",
       "</style>\n",
       "<table border=\"1\" class=\"dataframe\">\n",
       "  <thead>\n",
       "    <tr style=\"text-align: right;\">\n",
       "      <th></th>\n",
       "      <th>Метрика</th>\n",
       "      <th>Тренировочная выборка</th>\n",
       "      <th>Валидационная выборка</th>\n",
       "    </tr>\n",
       "  </thead>\n",
       "  <tbody>\n",
       "    <tr>\n",
       "      <th>0</th>\n",
       "      <td>MAE</td>\n",
       "      <td>29.572515</td>\n",
       "      <td>2876.308855</td>\n",
       "    </tr>\n",
       "    <tr>\n",
       "      <th>1</th>\n",
       "      <td>MAPE (%)</td>\n",
       "      <td>0.847155</td>\n",
       "      <td>35.664222</td>\n",
       "    </tr>\n",
       "    <tr>\n",
       "      <th>2</th>\n",
       "      <td>R²</td>\n",
       "      <td>0.998308</td>\n",
       "      <td>0.760304</td>\n",
       "    </tr>\n",
       "    <tr>\n",
       "      <th>3</th>\n",
       "      <td>Max Error</td>\n",
       "      <td>9570.687425</td>\n",
       "      <td>22439.121820</td>\n",
       "    </tr>\n",
       "  </tbody>\n",
       "</table>\n",
       "</div>"
      ],
      "text/plain": [
       "     Метрика  Тренировочная выборка  Валидационная выборка\n",
       "0        MAE              29.572515            2876.308855\n",
       "1   MAPE (%)               0.847155              35.664222\n",
       "2         R²               0.998308               0.760304\n",
       "3  Max Error            9570.687425           22439.121820"
      ]
     },
     "execution_count": 14,
     "metadata": {},
     "output_type": "execute_result"
    }
   ],
   "source": [
    "metrics_df.head()"
   ]
  },
  {
   "cell_type": "markdown",
   "metadata": {},
   "source": [
    "Как видим, качество модели не самое лучшее без предобработки, ее стоит дорабатывать"
   ]
  },
  {
   "cell_type": "markdown",
   "metadata": {},
   "source": [
    "## Улучшение бейзлайна"
   ]
  },
  {
   "cell_type": "markdown",
   "metadata": {},
   "source": [
    "### EDA"
   ]
  },
  {
   "cell_type": "code",
   "execution_count": 15,
   "metadata": {},
   "outputs": [
    {
     "data": {
      "text/html": [
       "<div>\n",
       "<style scoped>\n",
       "    .dataframe tbody tr th:only-of-type {\n",
       "        vertical-align: middle;\n",
       "    }\n",
       "\n",
       "    .dataframe tbody tr th {\n",
       "        vertical-align: top;\n",
       "    }\n",
       "\n",
       "    .dataframe thead th {\n",
       "        text-align: right;\n",
       "    }\n",
       "</style>\n",
       "<table border=\"1\" class=\"dataframe\">\n",
       "  <thead>\n",
       "    <tr style=\"text-align: right;\">\n",
       "      <th></th>\n",
       "      <th>age</th>\n",
       "      <th>sex</th>\n",
       "      <th>bmi</th>\n",
       "      <th>children</th>\n",
       "      <th>smoker</th>\n",
       "      <th>charges</th>\n",
       "      <th>region_northeast</th>\n",
       "      <th>region_northwest</th>\n",
       "      <th>region_southeast</th>\n",
       "      <th>region_southwest</th>\n",
       "    </tr>\n",
       "  </thead>\n",
       "  <tbody>\n",
       "    <tr>\n",
       "      <th>560</th>\n",
       "      <td>46</td>\n",
       "      <td>0</td>\n",
       "      <td>19.95</td>\n",
       "      <td>2</td>\n",
       "      <td>0</td>\n",
       "      <td>9193.83850</td>\n",
       "      <td>0.0</td>\n",
       "      <td>1.0</td>\n",
       "      <td>0.0</td>\n",
       "      <td>0.0</td>\n",
       "    </tr>\n",
       "    <tr>\n",
       "      <th>1285</th>\n",
       "      <td>47</td>\n",
       "      <td>0</td>\n",
       "      <td>24.32</td>\n",
       "      <td>0</td>\n",
       "      <td>0</td>\n",
       "      <td>8534.67180</td>\n",
       "      <td>1.0</td>\n",
       "      <td>0.0</td>\n",
       "      <td>0.0</td>\n",
       "      <td>0.0</td>\n",
       "    </tr>\n",
       "    <tr>\n",
       "      <th>1142</th>\n",
       "      <td>52</td>\n",
       "      <td>0</td>\n",
       "      <td>24.86</td>\n",
       "      <td>0</td>\n",
       "      <td>0</td>\n",
       "      <td>27117.99378</td>\n",
       "      <td>0.0</td>\n",
       "      <td>0.0</td>\n",
       "      <td>1.0</td>\n",
       "      <td>0.0</td>\n",
       "    </tr>\n",
       "    <tr>\n",
       "      <th>969</th>\n",
       "      <td>39</td>\n",
       "      <td>0</td>\n",
       "      <td>34.32</td>\n",
       "      <td>5</td>\n",
       "      <td>0</td>\n",
       "      <td>8596.82780</td>\n",
       "      <td>0.0</td>\n",
       "      <td>0.0</td>\n",
       "      <td>1.0</td>\n",
       "      <td>0.0</td>\n",
       "    </tr>\n",
       "    <tr>\n",
       "      <th>486</th>\n",
       "      <td>54</td>\n",
       "      <td>0</td>\n",
       "      <td>21.47</td>\n",
       "      <td>3</td>\n",
       "      <td>0</td>\n",
       "      <td>12475.35130</td>\n",
       "      <td>0.0</td>\n",
       "      <td>1.0</td>\n",
       "      <td>0.0</td>\n",
       "      <td>0.0</td>\n",
       "    </tr>\n",
       "  </tbody>\n",
       "</table>\n",
       "</div>"
      ],
      "text/plain": [
       "      age sex    bmi  children smoker      charges region_northeast  \\\n",
       "560    46   0  19.95         2      0   9193.83850              0.0   \n",
       "1285   47   0  24.32         0      0   8534.67180              1.0   \n",
       "1142   52   0  24.86         0      0  27117.99378              0.0   \n",
       "969    39   0  34.32         5      0   8596.82780              0.0   \n",
       "486    54   0  21.47         3      0  12475.35130              0.0   \n",
       "\n",
       "     region_northwest region_southeast region_southwest  \n",
       "560               1.0              0.0              0.0  \n",
       "1285              0.0              0.0              0.0  \n",
       "1142              0.0              1.0              0.0  \n",
       "969               0.0              1.0              0.0  \n",
       "486               1.0              0.0              0.0  "
      ]
     },
     "execution_count": 15,
     "metadata": {},
     "output_type": "execute_result"
    }
   ],
   "source": [
    "train.head()"
   ]
  },
  {
   "cell_type": "markdown",
   "metadata": {},
   "source": [
    "#### Определим кол-во пустых значений в каждой фиче"
   ]
  },
  {
   "cell_type": "code",
   "execution_count": 16,
   "metadata": {},
   "outputs": [
    {
     "data": {
      "text/plain": [
       "age                 0\n",
       "sex                 0\n",
       "bmi                 0\n",
       "children            0\n",
       "smoker              0\n",
       "charges             0\n",
       "region_northeast    0\n",
       "region_northwest    0\n",
       "region_southeast    0\n",
       "region_southwest    0\n",
       "dtype: int64"
      ]
     },
     "execution_count": 16,
     "metadata": {},
     "output_type": "execute_result"
    }
   ],
   "source": [
    "data.isna().sum()"
   ]
  },
  {
   "cell_type": "markdown",
   "metadata": {},
   "source": [
    "Пустых значений нет"
   ]
  },
  {
   "cell_type": "markdown",
   "metadata": {},
   "source": [
    "### Проверим на выбросы Gender и посмотрим кол-во каждых значений"
   ]
  },
  {
   "cell_type": "code",
   "execution_count": 17,
   "metadata": {},
   "outputs": [
    {
     "data": {
      "text/plain": [
       "age                   47\n",
       "sex                    2\n",
       "bmi                  494\n",
       "children               6\n",
       "smoker                 2\n",
       "charges             1070\n",
       "region_northeast       2\n",
       "region_northwest       2\n",
       "region_southeast       2\n",
       "region_southwest       2\n",
       "dtype: int64"
      ]
     },
     "execution_count": 17,
     "metadata": {},
     "output_type": "execute_result"
    }
   ],
   "source": [
    "train.nunique()"
   ]
  },
  {
   "cell_type": "markdown",
   "metadata": {},
   "source": [
    "В Gender нет выбросов"
   ]
  },
  {
   "cell_type": "markdown",
   "metadata": {},
   "source": [
    "### Выведем основные характеристики фичей"
   ]
  },
  {
   "cell_type": "code",
   "execution_count": 18,
   "metadata": {},
   "outputs": [],
   "source": [
    "numeric_stats = train.select_dtypes(include=['number']).describe()\n",
    "categorical_stats = train.select_dtypes(include=['category', 'object']).describe()"
   ]
  },
  {
   "cell_type": "code",
   "execution_count": 19,
   "metadata": {},
   "outputs": [
    {
     "data": {
      "text/html": [
       "<div>\n",
       "<style scoped>\n",
       "    .dataframe tbody tr th:only-of-type {\n",
       "        vertical-align: middle;\n",
       "    }\n",
       "\n",
       "    .dataframe tbody tr th {\n",
       "        vertical-align: top;\n",
       "    }\n",
       "\n",
       "    .dataframe thead th {\n",
       "        text-align: right;\n",
       "    }\n",
       "</style>\n",
       "<table border=\"1\" class=\"dataframe\">\n",
       "  <thead>\n",
       "    <tr style=\"text-align: right;\">\n",
       "      <th></th>\n",
       "      <th>age</th>\n",
       "      <th>bmi</th>\n",
       "      <th>children</th>\n",
       "      <th>charges</th>\n",
       "    </tr>\n",
       "  </thead>\n",
       "  <tbody>\n",
       "    <tr>\n",
       "      <th>count</th>\n",
       "      <td>1070.000000</td>\n",
       "      <td>1070.000000</td>\n",
       "      <td>1070.000000</td>\n",
       "      <td>1070.000000</td>\n",
       "    </tr>\n",
       "    <tr>\n",
       "      <th>mean</th>\n",
       "      <td>39.357009</td>\n",
       "      <td>30.560397</td>\n",
       "      <td>1.107477</td>\n",
       "      <td>13346.089736</td>\n",
       "    </tr>\n",
       "    <tr>\n",
       "      <th>std</th>\n",
       "      <td>14.073960</td>\n",
       "      <td>6.043386</td>\n",
       "      <td>1.215983</td>\n",
       "      <td>12019.510778</td>\n",
       "    </tr>\n",
       "    <tr>\n",
       "      <th>min</th>\n",
       "      <td>18.000000</td>\n",
       "      <td>15.960000</td>\n",
       "      <td>0.000000</td>\n",
       "      <td>1121.873900</td>\n",
       "    </tr>\n",
       "    <tr>\n",
       "      <th>25%</th>\n",
       "      <td>27.000000</td>\n",
       "      <td>26.205000</td>\n",
       "      <td>0.000000</td>\n",
       "      <td>4897.667387</td>\n",
       "    </tr>\n",
       "    <tr>\n",
       "      <th>50%</th>\n",
       "      <td>39.500000</td>\n",
       "      <td>30.210000</td>\n",
       "      <td>1.000000</td>\n",
       "      <td>9575.442100</td>\n",
       "    </tr>\n",
       "    <tr>\n",
       "      <th>75%</th>\n",
       "      <td>51.000000</td>\n",
       "      <td>34.496250</td>\n",
       "      <td>2.000000</td>\n",
       "      <td>16746.657400</td>\n",
       "    </tr>\n",
       "    <tr>\n",
       "      <th>max</th>\n",
       "      <td>64.000000</td>\n",
       "      <td>53.130000</td>\n",
       "      <td>5.000000</td>\n",
       "      <td>62592.873090</td>\n",
       "    </tr>\n",
       "  </tbody>\n",
       "</table>\n",
       "</div>"
      ],
      "text/plain": [
       "               age          bmi     children       charges\n",
       "count  1070.000000  1070.000000  1070.000000   1070.000000\n",
       "mean     39.357009    30.560397     1.107477  13346.089736\n",
       "std      14.073960     6.043386     1.215983  12019.510778\n",
       "min      18.000000    15.960000     0.000000   1121.873900\n",
       "25%      27.000000    26.205000     0.000000   4897.667387\n",
       "50%      39.500000    30.210000     1.000000   9575.442100\n",
       "75%      51.000000    34.496250     2.000000  16746.657400\n",
       "max      64.000000    53.130000     5.000000  62592.873090"
      ]
     },
     "execution_count": 19,
     "metadata": {},
     "output_type": "execute_result"
    }
   ],
   "source": [
    "numeric_stats"
   ]
  },
  {
   "cell_type": "code",
   "execution_count": 20,
   "metadata": {},
   "outputs": [
    {
     "data": {
      "text/html": [
       "<div>\n",
       "<style scoped>\n",
       "    .dataframe tbody tr th:only-of-type {\n",
       "        vertical-align: middle;\n",
       "    }\n",
       "\n",
       "    .dataframe tbody tr th {\n",
       "        vertical-align: top;\n",
       "    }\n",
       "\n",
       "    .dataframe thead th {\n",
       "        text-align: right;\n",
       "    }\n",
       "</style>\n",
       "<table border=\"1\" class=\"dataframe\">\n",
       "  <thead>\n",
       "    <tr style=\"text-align: right;\">\n",
       "      <th></th>\n",
       "      <th>sex</th>\n",
       "      <th>smoker</th>\n",
       "      <th>region_northeast</th>\n",
       "      <th>region_northwest</th>\n",
       "      <th>region_southeast</th>\n",
       "      <th>region_southwest</th>\n",
       "    </tr>\n",
       "  </thead>\n",
       "  <tbody>\n",
       "    <tr>\n",
       "      <th>count</th>\n",
       "      <td>1070</td>\n",
       "      <td>1070</td>\n",
       "      <td>1070.0</td>\n",
       "      <td>1070.0</td>\n",
       "      <td>1070.0</td>\n",
       "      <td>1070.0</td>\n",
       "    </tr>\n",
       "    <tr>\n",
       "      <th>unique</th>\n",
       "      <td>2</td>\n",
       "      <td>2</td>\n",
       "      <td>2.0</td>\n",
       "      <td>2.0</td>\n",
       "      <td>2.0</td>\n",
       "      <td>2.0</td>\n",
       "    </tr>\n",
       "    <tr>\n",
       "      <th>top</th>\n",
       "      <td>1</td>\n",
       "      <td>0</td>\n",
       "      <td>0.0</td>\n",
       "      <td>0.0</td>\n",
       "      <td>0.0</td>\n",
       "      <td>0.0</td>\n",
       "    </tr>\n",
       "    <tr>\n",
       "      <th>freq</th>\n",
       "      <td>548</td>\n",
       "      <td>850</td>\n",
       "      <td>803.0</td>\n",
       "      <td>814.0</td>\n",
       "      <td>787.0</td>\n",
       "      <td>806.0</td>\n",
       "    </tr>\n",
       "  </tbody>\n",
       "</table>\n",
       "</div>"
      ],
      "text/plain": [
       "         sex  smoker  region_northeast  region_northwest  region_southeast  \\\n",
       "count   1070    1070            1070.0            1070.0            1070.0   \n",
       "unique     2       2               2.0               2.0               2.0   \n",
       "top        1       0               0.0               0.0               0.0   \n",
       "freq     548     850             803.0             814.0             787.0   \n",
       "\n",
       "        region_southwest  \n",
       "count             1070.0  \n",
       "unique               2.0  \n",
       "top                  0.0  \n",
       "freq               806.0  "
      ]
     },
     "execution_count": 20,
     "metadata": {},
     "output_type": "execute_result"
    }
   ],
   "source": [
    "categorical_stats"
   ]
  },
  {
   "cell_type": "markdown",
   "metadata": {},
   "source": [
    "#### Кол-во дубликатов"
   ]
  },
  {
   "cell_type": "code",
   "execution_count": 21,
   "metadata": {},
   "outputs": [
    {
     "data": {
      "text/plain": [
       "0"
      ]
     },
     "execution_count": 21,
     "metadata": {},
     "output_type": "execute_result"
    }
   ],
   "source": [
    "sum(train.duplicated())"
   ]
  },
  {
   "cell_type": "markdown",
   "metadata": {},
   "source": [
    "Дубликатов нет"
   ]
  },
  {
   "cell_type": "markdown",
   "metadata": {},
   "source": [
    "### Визуализируем данные"
   ]
  },
  {
   "cell_type": "code",
   "execution_count": 22,
   "metadata": {},
   "outputs": [
    {
     "data": {
      "image/png": "[encoded data removed]",
      "text/plain": [
       "<Figure size 2000x600 with 3 Axes>"
      ]
     },
     "metadata": {},
     "output_type": "display_data"
    }
   ],
   "source": [
    "n_cols = 4\n",
    "n_rows = (len(numerical_columns) + n_cols - 1) // n_cols\n",
    "\n",
    "fig, axes = plt.subplots(n_rows, n_cols, figsize=(20, n_rows * 6))\n",
    "axes = axes.flatten()\n",
    "\n",
    "for idx, col in enumerate(numerical_columns):\n",
    "    sns.histplot(train[col], kde=True, ax=axes[idx])\n",
    "    axes[idx].set_title(f'Гистограмма {col}')\n",
    "    axes[idx].set_xlabel(col)\n",
    "    axes[idx].set_ylabel('Частота')\n",
    "\n",
    "for i in range(len(numerical_columns), len(axes)):\n",
    "    fig.delaxes(axes[i])\n",
    "\n",
    "plt.tight_layout()\n",
    "plt.show()"
   ]
  },
  {
   "cell_type": "code",
   "execution_count": 23,
   "metadata": {},
   "outputs": [
    {
     "data": {
      "image/png": "[encoded data removed]",
      "text/plain": [
       "<Figure size 2000x600 with 3 Axes>"
      ]
     },
     "metadata": {},
     "output_type": "display_data"
    }
   ],
   "source": [
    "fig, axes = plt.subplots(n_rows, n_cols, figsize=(20, n_rows * 6))\n",
    "axes = axes.flatten()\n",
    "\n",
    "for idx, col in enumerate(numerical_columns):\n",
    "    sns.boxplot(y=train[col], ax=axes[idx])\n",
    "    axes[idx].set_title(f'Боксплот {col}')\n",
    "    axes[idx].set_xlabel(col)\n",
    "    axes[idx].set_ylabel('Значения')\n",
    "\n",
    "for i in range(len(numerical_columns), len(axes)):\n",
    "    fig.delaxes(axes[i])\n",
    "\n",
    "plt.tight_layout()\n",
    "plt.show()"
   ]
  },
  {
   "cell_type": "code",
   "execution_count": 24,
   "metadata": {},
   "outputs": [
    {
     "data": {
      "image/png": "[encoded data removed]",
      "text/plain": [
       "<Figure size 1000x3600 with 6 Axes>"
      ]
     },
     "metadata": {},
     "output_type": "display_data"
    }
   ],
   "source": [
    "fig, axes = plt.subplots(nrows=len(categorical_columns), ncols=3, figsize=(10, 6 * len(categorical_columns)))\n",
    "axes = axes.flatten()\n",
    "\n",
    "for idx, col in enumerate(categorical_columns):\n",
    "    sns.countplot(x=train[col], ax=axes[idx])\n",
    "    axes[idx].set_title(f'Countplot {col}')\n",
    "    axes[idx].set_xlabel(col)\n",
    "    axes[idx].set_ylabel('Частота')\n",
    "\n",
    "for i in range(len(categorical_columns), len(axes)):\n",
    "    fig.delaxes(axes[i])\n",
    "\n",
    "plt.tight_layout()\n",
    "plt.show()"
   ]
  },
  {
   "cell_type": "code",
   "execution_count": 25,
   "metadata": {},
   "outputs": [
    {
     "name": "stderr",
     "output_type": "stream",
     "text": [
      "/home/denis/.local/lib/python3.10/site-packages/phik/data_quality.py:59: UserWarning: The number of unique values of variable charges is large: 1070. Are you sure this is not an interval variable? Analysis for pairs of variables including charges can be slow.\n",
      "  warnings.warn(\n"
     ]
    },
    {
     "data": {
      "image/png": "[encoded data removed]",
      "text/plain": [
       "<Figure size 1400x1400 with 2 Axes>"
      ]
     },
     "metadata": {},
     "output_type": "display_data"
    }
   ],
   "source": [
    "#3. Построение матрицы корреляции признаков\n",
    "phik_overview = train.phik_matrix(interval_cols=numerical_columns)\n",
    "plot_correlation_matrix(phik_overview.values,\n",
    "                        x_labels=phik_overview.columns,\n",
    "                        y_labels=phik_overview.index,\n",
    "                        vmin=0, vmax=1, color_map=\"Greens\",\n",
    "                        title=r\"correlation $\\phi_K$\",\n",
    "                        fontsize_factor=0.9, figsize=(14, 14))\n",
    "plt.tight_layout()"
   ]
  },
  {
   "cell_type": "code",
   "execution_count": 26,
   "metadata": {},
   "outputs": [
    {
     "name": "stderr",
     "output_type": "stream",
     "text": [
      "/tmp/ipykernel_36513/2189804198.py:1: FutureWarning: The default value of numeric_only in DataFrame.corr is deprecated. In a future version, it will default to False. Select only valid columns or specify the value of numeric_only to silence this warning.\n",
      "  train.corr()\n"
     ]
    },
    {
     "data": {
      "text/html": [
       "<div>\n",
       "<style scoped>\n",
       "    .dataframe tbody tr th:only-of-type {\n",
       "        vertical-align: middle;\n",
       "    }\n",
       "\n",
       "    .dataframe tbody tr th {\n",
       "        vertical-align: top;\n",
       "    }\n",
       "\n",
       "    .dataframe thead th {\n",
       "        text-align: right;\n",
       "    }\n",
       "</style>\n",
       "<table border=\"1\" class=\"dataframe\">\n",
       "  <thead>\n",
       "    <tr style=\"text-align: right;\">\n",
       "      <th></th>\n",
       "      <th>age</th>\n",
       "      <th>bmi</th>\n",
       "      <th>children</th>\n",
       "      <th>charges</th>\n",
       "    </tr>\n",
       "  </thead>\n",
       "  <tbody>\n",
       "    <tr>\n",
       "      <th>age</th>\n",
       "      <td>1.000000</td>\n",
       "      <td>0.118274</td>\n",
       "      <td>0.060999</td>\n",
       "      <td>0.281721</td>\n",
       "    </tr>\n",
       "    <tr>\n",
       "      <th>bmi</th>\n",
       "      <td>0.118274</td>\n",
       "      <td>1.000000</td>\n",
       "      <td>-0.005040</td>\n",
       "      <td>0.197316</td>\n",
       "    </tr>\n",
       "    <tr>\n",
       "      <th>children</th>\n",
       "      <td>0.060999</td>\n",
       "      <td>-0.005040</td>\n",
       "      <td>1.000000</td>\n",
       "      <td>0.071885</td>\n",
       "    </tr>\n",
       "    <tr>\n",
       "      <th>charges</th>\n",
       "      <td>0.281721</td>\n",
       "      <td>0.197316</td>\n",
       "      <td>0.071885</td>\n",
       "      <td>1.000000</td>\n",
       "    </tr>\n",
       "  </tbody>\n",
       "</table>\n",
       "</div>"
      ],
      "text/plain": [
       "               age       bmi  children   charges\n",
       "age       1.000000  0.118274  0.060999  0.281721\n",
       "bmi       0.118274  1.000000 -0.005040  0.197316\n",
       "children  0.060999 -0.005040  1.000000  0.071885\n",
       "charges   0.281721  0.197316  0.071885  1.000000"
      ]
     },
     "execution_count": 26,
     "metadata": {},
     "output_type": "execute_result"
    }
   ],
   "source": [
    "train.corr()"
   ]
  },
  {
   "cell_type": "markdown",
   "metadata": {},
   "source": [
    "### Вывод:\n",
    "- Выбросы в BMI играют важную роль, поэтому их не стоит удалять.\n",
    "- как видим, charges имеют высокую нелинейную корреляцию с возрастом\n",
    "- высокая корреляция у признаков между собой, поэтому избавимся от нее"
   ]
  },
  {
   "cell_type": "markdown",
   "metadata": {},
   "source": [
    "### Избавимся от корреляции"
   ]
  },
  {
   "cell_type": "code",
   "execution_count": 27,
   "metadata": {},
   "outputs": [],
   "source": [
    "new_X_train = X_train\n",
    "new_y_train = y_train\n",
    "new_X_valid = X_valid\n",
    "new_y_valid = y_valid"
   ]
  },
  {
   "cell_type": "code",
   "execution_count": 28,
   "metadata": {},
   "outputs": [
    {
     "data": {
      "text/plain": [
       "PCA(n_components=8)"
      ]
     },
     "execution_count": 28,
     "metadata": {},
     "output_type": "execute_result"
    }
   ],
   "source": [
    "pca = PCA(n_components=len(X_train.columns)-1)\n",
    "scaler = StandardScaler()\n",
    "pca.fit(scaler.fit_transform(new_X_train))"
   ]
  },
  {
   "cell_type": "code",
   "execution_count": 29,
   "metadata": {},
   "outputs": [
    {
     "data": {
      "text/plain": [
       "array([0.17094786, 0.14980339, 0.14714659, 0.12190137, 0.11842104,\n",
       "       0.1066841 , 0.10015885, 0.08493679])"
      ]
     },
     "execution_count": 29,
     "metadata": {},
     "output_type": "execute_result"
    }
   ],
   "source": [
    "pca.explained_variance_ratio_"
   ]
  },
  {
   "cell_type": "markdown",
   "metadata": {},
   "source": [
    "Как видим, все колонки нужны, потому их оставим"
   ]
  },
  {
   "cell_type": "markdown",
   "metadata": {},
   "source": [
    "### Обучаем на новых данных"
   ]
  },
  {
   "cell_type": "markdown",
   "metadata": {},
   "source": [
    "Также добавим нормировку, чтобы выбросы сильно не влияли на результаты"
   ]
  },
  {
   "cell_type": "code",
   "execution_count": 30,
   "metadata": {},
   "outputs": [],
   "source": [
    "model = Pipeline((\n",
    "    (\"scaler\", StandardScaler()),\n",
    "    (\"pca\", PCA(n_components=8)),\n",
    "    (\"model\", DecisionTreeRegressor())\n",
    "))"
   ]
  },
  {
   "cell_type": "code",
   "execution_count": 31,
   "metadata": {},
   "outputs": [
    {
     "data": {
      "text/plain": [
       "Pipeline(steps=[('scaler', StandardScaler()), ('pca', PCA(n_components=8)),\n",
       "                ('model', DecisionTreeRegressor())])"
      ]
     },
     "execution_count": 31,
     "metadata": {},
     "output_type": "execute_result"
    }
   ],
   "source": [
    "model.fit(new_X_train, new_y_train)"
   ]
  },
  {
   "cell_type": "markdown",
   "metadata": {},
   "source": [
    "Делаем предсказания по тренировочной выборке и валидационной"
   ]
  },
  {
   "cell_type": "code",
   "execution_count": 32,
   "metadata": {},
   "outputs": [],
   "source": [
    "train_predict = model.predict(new_X_train)\n",
    "valid_predict = model.predict(new_X_valid)"
   ]
  },
  {
   "cell_type": "markdown",
   "metadata": {},
   "source": [
    "### B: Оценка качества модели"
   ]
  },
  {
   "cell_type": "code",
   "execution_count": 33,
   "metadata": {},
   "outputs": [],
   "source": [
    "# Расчет метрик для тренировочных предсказаний\n",
    "train_mae = mean_absolute_error(y_train, train_predict)\n",
    "train_mape = mean_absolute_percentage_error(y_train, train_predict) * 100  # Преобразуем в проценты\n",
    "train_r2 = r2_score(y_train, train_predict)\n",
    "train_max_error = max_error(y_train, train_predict)\n",
    "\n",
    "# Расчет метрик для валидационных предсказаний\n",
    "valid_mae = mean_absolute_error(y_valid, valid_predict)\n",
    "valid_mape = mean_absolute_percentage_error(y_valid, valid_predict) * 100  # Преобразуем в проценты\n",
    "valid_r2 = r2_score(y_valid, valid_predict)\n",
    "valid_max_error = max_error(y_valid, valid_predict)\n",
    "\n",
    "# Сводка метрик в таблицу для удобного отображения\n",
    "metrics_df = pd.DataFrame({\n",
    "    'Метрика': ['MAE', 'MAPE (%)', 'R²', 'Max Error'],\n",
    "    'Тренировочная выборка': [train_mae, train_mape, train_r2, train_max_error],\n",
    "    'Валидационная выборка': [valid_mae, valid_mape, valid_r2, valid_max_error]\n",
    "})"
   ]
  },
  {
   "cell_type": "code",
   "execution_count": 34,
   "metadata": {},
   "outputs": [
    {
     "data": {
      "text/html": [
       "<div>\n",
       "<style scoped>\n",
       "    .dataframe tbody tr th:only-of-type {\n",
       "        vertical-align: middle;\n",
       "    }\n",
       "\n",
       "    .dataframe tbody tr th {\n",
       "        vertical-align: top;\n",
       "    }\n",
       "\n",
       "    .dataframe thead th {\n",
       "        text-align: right;\n",
       "    }\n",
       "</style>\n",
       "<table border=\"1\" class=\"dataframe\">\n",
       "  <thead>\n",
       "    <tr style=\"text-align: right;\">\n",
       "      <th></th>\n",
       "      <th>Метрика</th>\n",
       "      <th>Тренировочная выборка</th>\n",
       "      <th>Валидационная выборка</th>\n",
       "    </tr>\n",
       "  </thead>\n",
       "  <tbody>\n",
       "    <tr>\n",
       "      <th>0</th>\n",
       "      <td>MAE</td>\n",
       "      <td>29.572515</td>\n",
       "      <td>4082.274074</td>\n",
       "    </tr>\n",
       "    <tr>\n",
       "      <th>1</th>\n",
       "      <td>MAPE (%)</td>\n",
       "      <td>0.847155</td>\n",
       "      <td>43.329655</td>\n",
       "    </tr>\n",
       "    <tr>\n",
       "      <th>2</th>\n",
       "      <td>R²</td>\n",
       "      <td>0.998308</td>\n",
       "      <td>0.603234</td>\n",
       "    </tr>\n",
       "    <tr>\n",
       "      <th>3</th>\n",
       "      <td>Max Error</td>\n",
       "      <td>9570.687425</td>\n",
       "      <td>36364.496000</td>\n",
       "    </tr>\n",
       "  </tbody>\n",
       "</table>\n",
       "</div>"
      ],
      "text/plain": [
       "     Метрика  Тренировочная выборка  Валидационная выборка\n",
       "0        MAE              29.572515            4082.274074\n",
       "1   MAPE (%)               0.847155              43.329655\n",
       "2         R²               0.998308               0.603234\n",
       "3  Max Error            9570.687425           36364.496000"
      ]
     },
     "execution_count": 34,
     "metadata": {},
     "output_type": "execute_result"
    }
   ],
   "source": [
    "metrics_df.head()"
   ]
  },
  {
   "cell_type": "markdown",
   "metadata": {},
   "source": [
    "Как видим, результат не сильно изменился, немного улучшился"
   ]
  },
  {
   "cell_type": "markdown",
   "metadata": {},
   "source": [
    "## Импортируем собственную реализацию модели ближайших соседей"
   ]
  },
  {
   "cell_type": "code",
   "execution_count": 35,
   "metadata": {},
   "outputs": [],
   "source": [
    "from implementation import DecisionTreeRegressor"
   ]
  },
  {
   "cell_type": "markdown",
   "metadata": {},
   "source": [
    "### Обучаем модель"
   ]
  },
  {
   "cell_type": "code",
   "execution_count": 36,
   "metadata": {},
   "outputs": [],
   "source": [
    "model = DecisionTreeRegressor()"
   ]
  },
  {
   "cell_type": "code",
   "execution_count": 37,
   "metadata": {},
   "outputs": [],
   "source": [
    "model.fit(X_train, y_train)"
   ]
  },
  {
   "cell_type": "markdown",
   "metadata": {},
   "source": [
    "Делаем предсказания по тренировочной выборке и валидационной"
   ]
  },
  {
   "cell_type": "code",
   "execution_count": 38,
   "metadata": {},
   "outputs": [],
   "source": [
    "train_predict = model.predict(X_train)\n",
    "valid_predict = model.predict(X_valid)"
   ]
  },
  {
   "cell_type": "markdown",
   "metadata": {},
   "source": [
    "### B: Оценка качества модели"
   ]
  },
  {
   "cell_type": "code",
   "execution_count": 39,
   "metadata": {},
   "outputs": [],
   "source": [
    "# Расчет метрик для тренировочных предсказаний\n",
    "train_mae = mean_absolute_error(y_train, train_predict)\n",
    "train_mape = mean_absolute_percentage_error(y_train, train_predict) * 100  # Преобразуем в проценты\n",
    "train_r2 = r2_score(y_train, train_predict)\n",
    "train_max_error = max_error(y_train, train_predict)\n",
    "\n",
    "# Расчет метрик для валидационных предсказаний\n",
    "valid_mae = mean_absolute_error(y_valid, valid_predict)\n",
    "valid_mape = mean_absolute_percentage_error(y_valid, valid_predict) * 100  # Преобразуем в проценты\n",
    "valid_r2 = r2_score(y_valid, valid_predict)\n",
    "valid_max_error = max_error(y_valid, valid_predict)\n",
    "\n",
    "# Сводка метрик в таблицу для удобного отображения\n",
    "metrics_df = pd.DataFrame({\n",
    "    'Метрика': ['MAE', 'MAPE (%)', 'R²', 'Max Error'],\n",
    "    'Тренировочная выборка': [train_mae, train_mape, train_r2, train_max_error],\n",
    "    'Валидационная выборка': [valid_mae, valid_mape, valid_r2, valid_max_error]\n",
    "})"
   ]
  },
  {
   "cell_type": "code",
   "execution_count": 40,
   "metadata": {},
   "outputs": [
    {
     "data": {
      "text/html": [
       "<div>\n",
       "<style scoped>\n",
       "    .dataframe tbody tr th:only-of-type {\n",
       "        vertical-align: middle;\n",
       "    }\n",
       "\n",
       "    .dataframe tbody tr th {\n",
       "        vertical-align: top;\n",
       "    }\n",
       "\n",
       "    .dataframe thead th {\n",
       "        text-align: right;\n",
       "    }\n",
       "</style>\n",
       "<table border=\"1\" class=\"dataframe\">\n",
       "  <thead>\n",
       "    <tr style=\"text-align: right;\">\n",
       "      <th></th>\n",
       "      <th>Метрика</th>\n",
       "      <th>Тренировочная выборка</th>\n",
       "      <th>Валидационная выборка</th>\n",
       "    </tr>\n",
       "  </thead>\n",
       "  <tbody>\n",
       "    <tr>\n",
       "      <th>0</th>\n",
       "      <td>MAE</td>\n",
       "      <td>934.413663</td>\n",
       "      <td>3177.859716</td>\n",
       "    </tr>\n",
       "    <tr>\n",
       "      <th>1</th>\n",
       "      <td>MAPE (%)</td>\n",
       "      <td>11.390936</td>\n",
       "      <td>36.630150</td>\n",
       "    </tr>\n",
       "    <tr>\n",
       "      <th>2</th>\n",
       "      <td>R²</td>\n",
       "      <td>0.964321</td>\n",
       "      <td>0.743219</td>\n",
       "    </tr>\n",
       "    <tr>\n",
       "      <th>3</th>\n",
       "      <td>Max Error</td>\n",
       "      <td>16505.470610</td>\n",
       "      <td>21895.734990</td>\n",
       "    </tr>\n",
       "  </tbody>\n",
       "</table>\n",
       "</div>"
      ],
      "text/plain": [
       "     Метрика  Тренировочная выборка  Валидационная выборка\n",
       "0        MAE             934.413663            3177.859716\n",
       "1   MAPE (%)              11.390936              36.630150\n",
       "2         R²               0.964321               0.743219\n",
       "3  Max Error           16505.470610           21895.734990"
      ]
     },
     "execution_count": 40,
     "metadata": {},
     "output_type": "execute_result"
    }
   ],
   "source": [
    "metrics_df.head()"
   ]
  },
  {
   "cell_type": "markdown",
   "metadata": {},
   "source": [
    "### Обучаем с улучшенным бейзлайном"
   ]
  },
  {
   "cell_type": "code",
   "execution_count": 62,
   "metadata": {},
   "outputs": [],
   "source": [
    "model = Pipeline((\n",
    "    (\"scaler\", StandardScaler()),\n",
    "    (\"pca\", PCA(n_components=8)),\n",
    "    (\"model\", DecisionTreeRegressor(min_leaf_split=40, max_depth=5))\n",
    "))"
   ]
  },
  {
   "cell_type": "code",
   "execution_count": 63,
   "metadata": {},
   "outputs": [
    {
     "data": {
      "text/plain": [
       "Pipeline(steps=[('scaler', StandardScaler()), ('pca', PCA(n_components=8)),\n",
       "                ('model',\n",
       "                 <implementation.DecTree.DecisionTreeRegressor object at 0x734fc93bc100>)])"
      ]
     },
     "execution_count": 63,
     "metadata": {},
     "output_type": "execute_result"
    }
   ],
   "source": [
    "model.fit(new_X_train, new_y_train)"
   ]
  },
  {
   "cell_type": "markdown",
   "metadata": {},
   "source": [
    "Делаем предсказания по тренировочной выборке и валидационной"
   ]
  },
  {
   "cell_type": "code",
   "execution_count": 64,
   "metadata": {},
   "outputs": [],
   "source": [
    "train_predict = model.predict(new_X_train)\n",
    "valid_predict = model.predict(new_X_valid)"
   ]
  },
  {
   "cell_type": "markdown",
   "metadata": {},
   "source": [
    "### B: Оценка качества модели"
   ]
  },
  {
   "cell_type": "code",
   "execution_count": 65,
   "metadata": {},
   "outputs": [],
   "source": [
    "# Расчет метрик для тренировочных предсказаний\n",
    "train_mae = mean_absolute_error(y_train, train_predict)\n",
    "train_mape = mean_absolute_percentage_error(y_train, train_predict) * 100  # Преобразуем в проценты\n",
    "train_r2 = r2_score(y_train, train_predict)\n",
    "train_max_error = max_error(y_train, train_predict)\n",
    "\n",
    "# Расчет метрик для валидационных предсказаний\n",
    "valid_mae = mean_absolute_error(y_valid, valid_predict)\n",
    "valid_mape = mean_absolute_percentage_error(y_valid, valid_predict) * 100  # Преобразуем в проценты\n",
    "valid_r2 = r2_score(y_valid, valid_predict)\n",
    "valid_max_error = max_error(y_valid, valid_predict)\n",
    "\n",
    "# Сводка метрик в таблицу для удобного отображения\n",
    "metrics_df = pd.DataFrame({\n",
    "    'Метрика': ['MAE', 'MAPE (%)', 'R²', 'Max Error'],\n",
    "    'Тренировочная выборка': [train_mae, train_mape, train_r2, train_max_error],\n",
    "    'Валидационная выборка': [valid_mae, valid_mape, valid_r2, valid_max_error]\n",
    "})"
   ]
  },
  {
   "cell_type": "code",
   "execution_count": 66,
   "metadata": {},
   "outputs": [
    {
     "data": {
      "text/html": [
       "<div>\n",
       "<style scoped>\n",
       "    .dataframe tbody tr th:only-of-type {\n",
       "        vertical-align: middle;\n",
       "    }\n",
       "\n",
       "    .dataframe tbody tr th {\n",
       "        vertical-align: top;\n",
       "    }\n",
       "\n",
       "    .dataframe thead th {\n",
       "        text-align: right;\n",
       "    }\n",
       "</style>\n",
       "<table border=\"1\" class=\"dataframe\">\n",
       "  <thead>\n",
       "    <tr style=\"text-align: right;\">\n",
       "      <th></th>\n",
       "      <th>Метрика</th>\n",
       "      <th>Тренировочная выборка</th>\n",
       "      <th>Валидационная выборка</th>\n",
       "    </tr>\n",
       "  </thead>\n",
       "  <tbody>\n",
       "    <tr>\n",
       "      <th>0</th>\n",
       "      <td>MAE</td>\n",
       "      <td>3372.276780</td>\n",
       "      <td>4279.550290</td>\n",
       "    </tr>\n",
       "    <tr>\n",
       "      <th>1</th>\n",
       "      <td>MAPE (%)</td>\n",
       "      <td>36.725093</td>\n",
       "      <td>46.803176</td>\n",
       "    </tr>\n",
       "    <tr>\n",
       "      <th>2</th>\n",
       "      <td>R²</td>\n",
       "      <td>0.806054</td>\n",
       "      <td>0.675751</td>\n",
       "    </tr>\n",
       "    <tr>\n",
       "      <th>3</th>\n",
       "      <td>Max Error</td>\n",
       "      <td>29349.239950</td>\n",
       "      <td>32694.870000</td>\n",
       "    </tr>\n",
       "  </tbody>\n",
       "</table>\n",
       "</div>"
      ],
      "text/plain": [
       "     Метрика  Тренировочная выборка  Валидационная выборка\n",
       "0        MAE            3372.276780            4279.550290\n",
       "1   MAPE (%)              36.725093              46.803176\n",
       "2         R²               0.806054               0.675751\n",
       "3  Max Error           29349.239950           32694.870000"
      ]
     },
     "execution_count": 66,
     "metadata": {},
     "output_type": "execute_result"
    }
   ],
   "source": [
    "metrics_df.head()"
   ]
  },
  {
   "cell_type": "markdown",
   "metadata": {},
   "source": [
    "## Вывод:\n",
    "Как видим, модель, написанная мною работает аналогично модели sklearn, что очень радует!  \n",
    "Также, отмечу, что при eda модель показала себя хуже, возможно из-за удаления какой-то фичи (возможно не следовало удалять все фичи, тк дерево сам по себе хорошо отбирает признаки)."
   ]
  }
 ],
 "metadata": {
  "kernelspec": {
   "display_name": "Python 3",
   "language": "python",
   "name": "python3"
  },
  "language_info": {
   "codemirror_mode": {
    "name": "ipython",
    "version": 3
   },
   "file_extension": ".py",
   "mimetype": "text/x-python",
   "name": "python",
   "nbconvert_exporter": "python",
   "pygments_lexer": "ipython3",
   "version": "3.10.12"
  }
 },
 "nbformat": 4,
 "nbformat_minor": 2
}
