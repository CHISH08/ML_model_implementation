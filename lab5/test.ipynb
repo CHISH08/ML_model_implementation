{
 "cells": [
  {
   "cell_type": "code",
   "execution_count": 1,
   "metadata": {},
   "outputs": [
    {
     "name": "stdout",
     "output_type": "stream",
     "text": [
      "/home/denis/code/ML_model_implementation\n"
     ]
    },
    {
     "name": "stderr",
     "output_type": "stream",
     "text": [
      "/home/denis/.local/lib/python3.10/site-packages/IPython/core/magics/osm.py:417: UserWarning: This is now an optional IPython functionality, setting dhist requires you to install the `pickleshare` library.\n",
      "  self.shell.db['dhist'] = compress_dhist(dhist)[-100:]\n"
     ]
    }
   ],
   "source": [
    "%cd .."
   ]
  },
  {
   "cell_type": "code",
   "execution_count": 2,
   "metadata": {},
   "outputs": [],
   "source": [
    "from implementation import GradientBoostingClassifier\n",
    "import pandas as pd\n",
    "import numpy as np"
   ]
  },
  {
   "cell_type": "code",
   "execution_count": 3,
   "metadata": {},
   "outputs": [],
   "source": [
    "model = GradientBoostingClassifier(min_leaf_split=1, max_depth=1, n_estimators=10)"
   ]
  },
  {
   "cell_type": "code",
   "execution_count": 4,
   "metadata": {},
   "outputs": [],
   "source": [
    "data = pd.DataFrame([\n",
    "    {\"feature1\": 1.0, \"feature2\": 3.0, \"feature3\": 5.0, \"feature4\": 7.0, \"class\": 0},\n",
    "    {\"feature1\": 2.0, \"feature2\": 2.5, \"feature3\": 4.0, \"feature4\": 6.0, \"class\": 0},\n",
    "    {\"feature1\": 2.5, \"feature2\": 2.0, \"feature3\": 4.0, \"feature4\": 5.0, \"class\": 1},\n",
    "    {\"feature1\": 3.0, \"feature2\": 1.5, \"feature3\": 3.5, \"feature4\": 4.0, \"class\": 1},\n",
    "    {\"feature1\": 3.5, \"feature2\": 1.0, \"feature3\": 3.0, \"feature4\": 3.0, \"class\": 1},\n",
    "    {\"feature1\": 1.5, \"feature2\": 3.0, \"feature3\": 5.0, \"feature4\": 7.0, \"class\": 0},\n",
    "    {\"feature1\": 2.5, \"feature2\": 2.5, \"feature3\": 4.5, \"feature4\": 6.5, \"class\": 0},\n",
    "    {\"feature1\": 3.0, \"feature2\": 2.0, \"feature3\": 3.5, \"feature4\": 5.5, \"class\": 1},\n",
    "    {\"feature1\": 2.0, \"feature2\": 1.5, \"feature3\": 4.0, \"feature4\": 4.5, \"class\": 1},\n",
    "    {\"feature1\": 3.5, \"feature2\": 1.0, \"feature3\": 3.0, \"feature4\": 3.5, \"class\": 1}\n",
    "])"
   ]
  },
  {
   "cell_type": "code",
   "execution_count": 5,
   "metadata": {},
   "outputs": [
    {
     "data": {
      "text/html": [
       "<div>\n",
       "<style scoped>\n",
       "    .dataframe tbody tr th:only-of-type {\n",
       "        vertical-align: middle;\n",
       "    }\n",
       "\n",
       "    .dataframe tbody tr th {\n",
       "        vertical-align: top;\n",
       "    }\n",
       "\n",
       "    .dataframe thead th {\n",
       "        text-align: right;\n",
       "    }\n",
       "</style>\n",
       "<table border=\"1\" class=\"dataframe\">\n",
       "  <thead>\n",
       "    <tr style=\"text-align: right;\">\n",
       "      <th></th>\n",
       "      <th>feature1</th>\n",
       "      <th>feature2</th>\n",
       "      <th>feature3</th>\n",
       "      <th>feature4</th>\n",
       "      <th>class</th>\n",
       "    </tr>\n",
       "  </thead>\n",
       "  <tbody>\n",
       "    <tr>\n",
       "      <th>0</th>\n",
       "      <td>1.0</td>\n",
       "      <td>3.0</td>\n",
       "      <td>5.0</td>\n",
       "      <td>7.0</td>\n",
       "      <td>0</td>\n",
       "    </tr>\n",
       "    <tr>\n",
       "      <th>1</th>\n",
       "      <td>2.0</td>\n",
       "      <td>2.5</td>\n",
       "      <td>4.0</td>\n",
       "      <td>6.0</td>\n",
       "      <td>0</td>\n",
       "    </tr>\n",
       "    <tr>\n",
       "      <th>2</th>\n",
       "      <td>2.5</td>\n",
       "      <td>2.0</td>\n",
       "      <td>4.0</td>\n",
       "      <td>5.0</td>\n",
       "      <td>1</td>\n",
       "    </tr>\n",
       "    <tr>\n",
       "      <th>3</th>\n",
       "      <td>3.0</td>\n",
       "      <td>1.5</td>\n",
       "      <td>3.5</td>\n",
       "      <td>4.0</td>\n",
       "      <td>1</td>\n",
       "    </tr>\n",
       "    <tr>\n",
       "      <th>4</th>\n",
       "      <td>3.5</td>\n",
       "      <td>1.0</td>\n",
       "      <td>3.0</td>\n",
       "      <td>3.0</td>\n",
       "      <td>1</td>\n",
       "    </tr>\n",
       "    <tr>\n",
       "      <th>5</th>\n",
       "      <td>1.5</td>\n",
       "      <td>3.0</td>\n",
       "      <td>5.0</td>\n",
       "      <td>7.0</td>\n",
       "      <td>0</td>\n",
       "    </tr>\n",
       "    <tr>\n",
       "      <th>6</th>\n",
       "      <td>2.5</td>\n",
       "      <td>2.5</td>\n",
       "      <td>4.5</td>\n",
       "      <td>6.5</td>\n",
       "      <td>0</td>\n",
       "    </tr>\n",
       "    <tr>\n",
       "      <th>7</th>\n",
       "      <td>3.0</td>\n",
       "      <td>2.0</td>\n",
       "      <td>3.5</td>\n",
       "      <td>5.5</td>\n",
       "      <td>1</td>\n",
       "    </tr>\n",
       "    <tr>\n",
       "      <th>8</th>\n",
       "      <td>2.0</td>\n",
       "      <td>1.5</td>\n",
       "      <td>4.0</td>\n",
       "      <td>4.5</td>\n",
       "      <td>1</td>\n",
       "    </tr>\n",
       "    <tr>\n",
       "      <th>9</th>\n",
       "      <td>3.5</td>\n",
       "      <td>1.0</td>\n",
       "      <td>3.0</td>\n",
       "      <td>3.5</td>\n",
       "      <td>1</td>\n",
       "    </tr>\n",
       "  </tbody>\n",
       "</table>\n",
       "</div>"
      ],
      "text/plain": [
       "   feature1  feature2  feature3  feature4  class\n",
       "0       1.0       3.0       5.0       7.0      0\n",
       "1       2.0       2.5       4.0       6.0      0\n",
       "2       2.5       2.0       4.0       5.0      1\n",
       "3       3.0       1.5       3.5       4.0      1\n",
       "4       3.5       1.0       3.0       3.0      1\n",
       "5       1.5       3.0       5.0       7.0      0\n",
       "6       2.5       2.5       4.5       6.5      0\n",
       "7       3.0       2.0       3.5       5.5      1\n",
       "8       2.0       1.5       4.0       4.5      1\n",
       "9       3.5       1.0       3.0       3.5      1"
      ]
     },
     "execution_count": 5,
     "metadata": {},
     "output_type": "execute_result"
    }
   ],
   "source": [
    "data"
   ]
  },
  {
   "cell_type": "code",
   "execution_count": 6,
   "metadata": {},
   "outputs": [],
   "source": [
    "X = data.drop(columns=[\"class\"], inplace=False).to_numpy()\n",
    "y = data[\"class\"].to_numpy()"
   ]
  },
  {
   "cell_type": "code",
   "execution_count": 7,
   "metadata": {},
   "outputs": [
    {
     "name": "stdout",
     "output_type": "stream",
     "text": [
      "[0.40546511 0.40546511 0.40546511 0.40546511 0.40546511 0.40546511\n",
      " 0.40546511 0.40546511 0.40546511 0.40546511] [0 0 1 1 1 0 0 1 1 1]\n",
      "[-0.19453489 -0.19453489  0.80546511  0.80546511  0.80546511 -0.19453489\n",
      " -0.19453489  0.80546511  0.80546511  0.80546511] [0 0 1 1 1 0 0 1 1 1]\n",
      "[-0.64605396 -0.64605396  1.1143228   1.1143228   1.1143228  -0.64605396\n",
      " -0.64605396  1.1143228   1.1143228   1.1143228 ] [0 0 1 1 1 0 0 1 1 1]\n",
      "[-0.98993328 -0.98993328  1.36138867  1.36138867  1.36138867 -0.98993328\n",
      " -0.98993328  1.36138867  1.36138867  1.36138867] [0 0 1 1 1 0 0 1 1 1]\n",
      "[-1.26085854 -1.26085854  1.56540337  1.56540337  1.56540337 -1.26085854\n",
      " -1.26085854  1.56540337  1.56540337  1.56540337] [0 0 1 1 1 0 0 1 1 1]\n",
      "[-1.48168467 -1.48168467  1.73827603  1.73827603  1.73827603 -1.48168467\n",
      " -1.48168467  1.73827603  1.73827603  1.73827603] [0 0 1 1 1 0 0 1 1 1]\n",
      "[-1.66685777 -1.66685777  1.88780808  1.88780808  1.88780808 -1.66685777\n",
      " -1.66685777  1.88780808  1.88780808  1.88780808] [0 0 1 1 1 0 0 1 1 1]\n",
      "[-1.82570134 -1.82570134  2.01930267  2.01930267  2.01930267 -1.82570134\n",
      " -1.82570134  2.01930267  2.01930267  2.01930267] [0 0 1 1 1 0 0 1 1 1]\n",
      "[-1.9644525  -1.9644525   2.13649378  2.13649378  2.13649378 -1.9644525\n",
      " -1.9644525   2.13649378  2.13649378  2.13649378] [0 0 1 1 1 0 0 1 1 1]\n",
      "[-2.08743849 -2.08743849  2.24209387  2.24209387  2.24209387 -2.08743849\n",
      " -2.08743849  2.24209387  2.24209387  2.24209387] [0 0 1 1 1 0 0 1 1 1]\n"
     ]
    }
   ],
   "source": [
    "model.fit(X, y)"
   ]
  },
  {
   "cell_type": "code",
   "execution_count": 8,
   "metadata": {},
   "outputs": [],
   "source": [
    "test = X.copy()"
   ]
  },
  {
   "cell_type": "code",
   "execution_count": 9,
   "metadata": {},
   "outputs": [
    {
     "data": {
      "text/plain": [
       "array([0, 0, 1, 1, 1, 0, 0, 1, 1, 1])"
      ]
     },
     "execution_count": 9,
     "metadata": {},
     "output_type": "execute_result"
    }
   ],
   "source": [
    "model.predict(test)"
   ]
  }
 ],
 "metadata": {
  "kernelspec": {
   "display_name": "Python 3",
   "language": "python",
   "name": "python3"
  },
  "language_info": {
   "codemirror_mode": {
    "name": "ipython",
    "version": 3
   },
   "file_extension": ".py",
   "mimetype": "text/x-python",
   "name": "python",
   "nbconvert_exporter": "python",
   "pygments_lexer": "ipython3",
   "version": "3.10.12"
  }
 },
 "nbformat": 4,
 "nbformat_minor": 2
}
